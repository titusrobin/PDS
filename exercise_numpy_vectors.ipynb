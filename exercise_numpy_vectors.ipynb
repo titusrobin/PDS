{
 "cells": [
  {
   "cell_type": "markdown",
   "metadata": {},
   "source": [
    "# Measuring Income Inequality"
   ]
  },
  {
   "cell_type": "markdown",
   "metadata": {},
   "source": [
    "## Exercise 1 ##"
   ]
  },
  {
   "cell_type": "markdown",
   "metadata": {},
   "source": [
    "Here we import essential Python libraries and loading income data for analysis."
   ]
  },
  {
   "cell_type": "code",
   "execution_count": 17,
   "metadata": {},
   "outputs": [],
   "source": [
    "import numpy as np\n",
    "from matplotlib import pyplot as plt\n",
    "from ineqpy.inequality import gini\n",
    "\n",
    "income_data = np.loadtxt(\n",
    "    \"https://raw.githubusercontent.com/nickeubank/practicaldatascience/master/Example_Data/us_household_incomes.txt\"\n",
    ")"
   ]
  },
  {
   "cell_type": "markdown",
   "metadata": {},
   "source": [
    "## Exercise 2 ##"
   ]
  },
  {
   "cell_type": "markdown",
   "metadata": {},
   "source": [
    "Upon plotting the income data(in its entirety), it’s evident that the distribution is right-skewed. This means that there are more households with lower incomes compared to higher incomes, which is a characteristic of income inequality. The skewed shape of the histogram points out that income inequality is relatively high in the United States."
   ]
  },
  {
   "cell_type": "code",
   "execution_count": 18,
   "metadata": {},
   "outputs": [
    {
     "data": {
      "text/plain": [
       "(array([8.77542e+05, 4.35030e+04, 1.01710e+04, 1.92100e+03, 3.98000e+02,\n",
       "        1.17000e+02, 2.90000e+01, 8.00000e+00, 4.00000e+00, 2.00000e+00]),\n",
       " array([ -16942. ,  225842.5,  468627. ,  711411.5,  954196. , 1196980.5,\n",
       "        1439765. , 1682549.5, 1925334. , 2168118.5, 2410903. ]),\n",
       " <BarContainer object of 10 artists>)"
      ]
     },
     "execution_count": 18,
     "metadata": {},
     "output_type": "execute_result"
    },
    {
     "data": {
      "image/png": "[encoded data removed]",
      "text/plain": [
       "<Figure size 640x480 with 1 Axes>"
      ]
     },
     "metadata": {},
     "output_type": "display_data"
    }
   ],
   "source": [
    "plt.hist(income_data)"
   ]
  },
  {
   "cell_type": "markdown",
   "metadata": {},
   "source": [
    "## Exercise 3 ##"
   ]
  },
  {
   "cell_type": "markdown",
   "metadata": {},
   "source": [
    "Limiting the income range to households making less than $500,000 still exhibits a noticeable right-skew in the income distribution. This indicates that income inequality is not solely attributable to extreme high earners but is a characteristic that extends across various income levels."
   ]
  },
  {
   "cell_type": "code",
   "execution_count": 19,
   "metadata": {},
   "outputs": [],
   "source": [
    "income_data_below500K = income_data[income_data < 500000]"
   ]
  },
  {
   "cell_type": "code",
   "execution_count": 20,
   "metadata": {},
   "outputs": [
    {
     "data": {
      "text/plain": [
       "(array([262190., 338722., 173615.,  76580.,  33854.,  16134.,   8329.,\n",
       "          5401.,   4556.,   4038.]),\n",
       " array([-16942.,  34752.,  86446., 138140., 189834., 241528., 293222.,\n",
       "        344916., 396610., 448304., 499998.]),\n",
       " <BarContainer object of 10 artists>)"
      ]
     },
     "execution_count": 20,
     "metadata": {},
     "output_type": "execute_result"
    },
    {
     "data": {
      "image/png": "[encoded data removed]",
      "text/plain": [
       "<Figure size 640x480 with 1 Axes>"
      ]
     },
     "metadata": {},
     "output_type": "display_data"
    }
   ],
   "source": [
    "plt.hist(income_data_below500K)"
   ]
  },
  {
   "cell_type": "markdown",
   "metadata": {},
   "source": [
    "## Exercise 4 ##"
   ]
  },
  {
   "cell_type": "markdown",
   "metadata": {},
   "source": [
    "The Gini Index for income inequality in the United States, calculated using the gini function above, is approximately 41.50."
   ]
  },
  {
   "cell_type": "code",
   "execution_count": 21,
   "metadata": {},
   "outputs": [],
   "source": [
    "ex4_share_below_poverty = len(income_data[income_data < 20000]) / len(income_data)"
   ]
  },
  {
   "cell_type": "code",
   "execution_count": 22,
   "metadata": {},
   "outputs": [
    {
     "name": "stdout",
     "output_type": "stream",
     "text": [
      "0.48\n"
     ]
    }
   ],
   "source": [
    "ex4_gini = gini(income_data)\n",
    "print(round(ex4_gini,2))"
   ]
  },
  {
   "cell_type": "markdown",
   "metadata": {},
   "source": [
    "## Exercise 5 ##\n",
    "\n",
    "In the Country Ranking for GINI index by World Bank estimate, the US has a GINI Index of 41.50 in 2019, sitting at 46th place in descending order of inqeuality (out of 162 countries ranked). \n",
    "\n",
    "This is roughly what we expected, given that the US is not known for its wealth redistribution programs or other initiatives to tackle inequality (particularly so for an OECD country)."
   ]
  },
  {
   "cell_type": "markdown",
   "metadata": {},
   "source": [
    "## Exercise 6 ##"
   ]
  },
  {
   "cell_type": "markdown",
   "metadata": {},
   "source": [
    "Comparing the Gini Index values, we find that **Policy B** (Gini ≈ 0.2136) has reduced income inequality more than **Policy A** (Gini ≈ 0.2472). \n",
    "\n",
    "Based on these calculations, our recommendation to the President is that implementing **Policy B** appears to be more effective in reducing income inequality, as it results in a lower Gini Index compared to **Policy A.**"
   ]
  },
  {
   "cell_type": "code",
   "execution_count": 23,
   "metadata": {},
   "outputs": [
    {
     "name": "stdout",
     "output_type": "stream",
     "text": [
      "{'ex4_share_below_poverty': 0.14711442173300704, 'ex4_gini': 0.48109255468791856, 'ex6_gini_policy_a': 0.2471580048356745, 'ex6_gini_policy_b': 0.21363781959746908, 'ex6_gini_which_reduced_more': 'Policy B'}\n"
     ]
    }
   ],
   "source": [
    "ex6_income_policy_a = income_data[income_data < 40000] + 5000\n",
    "ex6_income_policy_b = income_data[income_data < 30000] + 7000\n",
    "\n",
    "results = {\n",
    "    \"ex4_share_below_poverty\": ex4_share_below_poverty,\n",
    "    \"ex4_gini\": ex4_gini,\n",
    "    \"ex6_gini_policy_a\": gini(ex6_income_policy_a),\n",
    "    \"ex6_gini_policy_b\": gini(ex6_income_policy_b),\n",
    "    \"ex6_gini_which_reduced_more\": \"Policy B\",\n",
    "}\n",
    "print(results)"
   ]
  },
  {
   "cell_type": "markdown",
   "metadata": {},
   "source": [
    "## Exercise 7 ##"
   ]
  },
  {
   "cell_type": "code",
   "execution_count": 24,
   "metadata": {},
   "outputs": [
    {
     "name": "stdout",
     "output_type": "stream",
     "text": [
      "{'ex4_share_below_poverty': 0.14711442173300704, 'ex4_gini': 0.48109255468791856, 'ex6_gini_policy_a': 0.2471580048356745, 'ex6_gini_policy_b': 0.21363781959746908, 'ex6_gini_which_reduced_more': 'Policy B', 'ex7_gini_policy_c': 0.20253166782390997}\n"
     ]
    }
   ],
   "source": [
    "ex7_income_policy_c = income_data[income_data > 250000] * 0.95\n",
    "results[\"ex7_gini_policy_c\"] = gini(ex7_income_policy_c)\n",
    "print(results)"
   ]
  },
  {
   "cell_type": "markdown",
   "metadata": {},
   "source": [
    " ## Exercise 8 ##"
   ]
  },
  {
   "cell_type": "code",
   "execution_count": 25,
   "metadata": {},
   "outputs": [
    {
     "name": "stdout",
     "output_type": "stream",
     "text": [
      "{'ex4_share_below_poverty': 0.14711442173300704, 'ex4_gini': 0.48109255468791856, 'ex6_gini_policy_a': 0.2471580048356745, 'ex6_gini_policy_b': 0.21363781959746908, 'ex6_gini_which_reduced_more': 'Policy B', 'ex7_gini_policy_c': 0.20253166782390997, 'ex8_revenue_raised': 929623340.8499994}\n"
     ]
    }
   ],
   "source": [
    "tax_generated = sum(income_data[income_data > 250000] * 0.05)\n",
    "results[\"ex8_revenue_raised\"] = tax_generated\n",
    "print(results)"
   ]
  },
  {
   "cell_type": "markdown",
   "metadata": {},
   "source": [
    "## Exercise 9 ##"
   ]
  },
  {
   "cell_type": "code",
   "execution_count": 26,
   "metadata": {},
   "outputs": [
    {
     "name": "stdout",
     "output_type": "stream",
     "text": [
      "{'ex4_share_below_poverty': 0.14711442173300704, 'ex4_gini': 0.48109255468791856, 'ex6_gini_policy_a': 0.2471580048356745, 'ex6_gini_policy_b': 0.21363781959746908, 'ex6_gini_which_reduced_more': 'Policy B', 'ex7_gini_policy_c': 0.20253166782390997, 'ex8_revenue_raised': 929623340.8499994, 'ex9_transfers': 4208.230382379833}\n"
     ]
    }
   ],
   "source": [
    "results[\"ex9_transfers\"] = tax_generated / len(income_data[income_data < 30000])\n",
    "print(results)"
   ]
  },
  {
   "cell_type": "markdown",
   "metadata": {},
   "source": [
    "## Exercise 10 ##"
   ]
  },
  {
   "cell_type": "code",
   "execution_count": 27,
   "metadata": {},
   "outputs": [],
   "source": [
    "ex10_income_data = income_data.copy()\n",
    "ex10_income_data[ex10_income_data > 250000] = (\n",
    "    ex10_income_data[ex10_income_data > 250000] * 0.95\n",
    ")\n",
    "ex10_income_data[ex10_income_data < 30000] = (\n",
    "    ex10_income_data[ex10_income_data < 30000] + results[\"ex9_transfers\"]\n",
    ")\n",
    "\n",
    "results[\"ex10_gini_policy_d\"] = gini(ex10_income_data)"
   ]
  },
  {
   "cell_type": "markdown",
   "metadata": {},
   "source": [
    "## Exercise 11 ##"
   ]
  },
  {
   "cell_type": "code",
   "execution_count": 28,
   "metadata": {},
   "outputs": [],
   "source": [
    "ex11_income_data = income_data.copy()\n",
    "ex11_income_data[ex11_income_data > 250000] = (\n",
    "    ex11_income_data[ex11_income_data > 250000] * 0.95\n",
    ")\n",
    "ex11_income_data[ex11_income_data < 40000] = ex11_income_data[\n",
    "    ex11_income_data < 40000\n",
    "] + (tax_generated / len(ex11_income_data[ex11_income_data < 40000]))\n",
    "\n",
    "results[\"ex11_gini_policy_e\"] = gini(ex11_income_data)"
   ]
  },
  {
   "cell_type": "markdown",
   "metadata": {},
   "source": [
    "## Exercise 12 ##\n",
    "\n",
    "***INSERT POLICY RECOMMENDATION HERE***"
   ]
  },
  {
   "cell_type": "code",
   "execution_count": 29,
   "metadata": {},
   "outputs": [
    {
     "name": "stdout",
     "output_type": "stream",
     "text": [
      "{'ex4_share_below_poverty': 0.14711442173300704, 'ex4_gini': 0.48109255468791856, 'ex6_gini_policy_a': 0.2471580048356745, 'ex6_gini_policy_b': 0.21363781959746908, 'ex6_gini_which_reduced_more': 'Policy B', 'ex7_gini_policy_c': 0.20253166782390997, 'ex8_revenue_raised': 929623340.8499994, 'ex9_transfers': 4208.230382379833, 'ex10_gini_policy_d': 0.461669005702055, 'ex11_gini_policy_e': 0.4626486196305247, 'ex12_policy_recommendation': 'Policy D'}\n"
     ]
    }
   ],
   "source": [
    "results[\"ex12_policy_recommendation\"] = \"Policy D\"\n",
    "print(results)"
   ]
  },
  {
   "cell_type": "code",
   "execution_count": 30,
   "metadata": {},
   "outputs": [],
   "source": [
    "assert set(results.keys()) == {\n",
    "    \"ex4_share_below_poverty\",\n",
    "    \"ex4_gini\",\n",
    "    \"ex6_gini_policy_a\",\n",
    "    \"ex6_gini_policy_b\",\n",
    "    \"ex6_gini_which_reduced_more\",\n",
    "    \"ex7_gini_policy_c\",\n",
    "    \"ex8_revenue_raised\",\n",
    "    \"ex9_transfers\",\n",
    "    \"ex10_gini_policy_d\",\n",
    "    \"ex11_gini_policy_e\",\n",
    "    \"ex12_policy_recommendation\",\n",
    "}"
   ]
  }
 ],
 "metadata": {
  "kernelspec": {
   "display_name": "base",
   "language": "python",
   "name": "python3"
  },
  "language_info": {
   "codemirror_mode": {
    "name": "ipython",
    "version": 3
   },
   "file_extension": ".py",
   "mimetype": "text/x-python",
   "name": "python",
   "nbconvert_exporter": "python",
   "pygments_lexer": "ipython3",
   "version": "3.11.5"
  },
  "orig_nbformat": 4
 },
 "nbformat": 4,
 "nbformat_minor": 2
}
